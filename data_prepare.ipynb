{
 "cells": [
  {
   "cell_type": "code",
   "execution_count": null,
   "id": "0301e413-90bb-49d9-b0f2-29c4da6f3945",
   "metadata": {},
   "outputs": [],
   "source": [
    "%%bash\n",
    "cd ~/wenet\n",
    "git clone https://github.com/wenet-e2e/wenet.git\n",
    "cd wenet\n",
    "pip install -r requirements.txt\n",
    "conda install pytorch=1.10.0 torchvision torchaudio=0.10.0 cudatoolkit=11.1 -c pytorch -c conda-forge"
   ]
  },
  {
   "cell_type": "code",
   "execution_count": null,
   "id": "c2288de5-09f0-4d08-a371-a6e3e323a6f8",
   "metadata": {},
   "outputs": [],
   "source": [
    "%cd \"~/wenet/wenet/examples/librispeech/s0/\"\n",
    "%env DATA_DIR=~/wenet/data/training\n"
   ]
  },
  {
   "cell_type": "code",
   "execution_count": null,
   "id": "826e810f-8492-4108-abb0-58cc1fbb09fb",
   "metadata": {},
   "outputs": [],
   "source": [
    "# prepare dataset\n",
    "!chmod 777 *.sh\n",
    "!cp run.sh run-bak.sh\n",
    "#mkdir export\n",
    "!mkdir -p $DATA_DIR"
   ]
  },
  {
   "cell_type": "code",
   "execution_count": null,
   "id": "c7b9571a-1e90-4420-bfe4-db01a971dd9d",
   "metadata": {},
   "outputs": [],
   "source": [
    "%%bash\n",
    "# install flac\n",
    "wget https://downloads.xiph.org/releases/flac/flac-1.3.2.tar.xz\n",
    "xz -d flac-1.3.2.tar.xz && tar -xvf flac-1.3.2.tar --no-same-owner && cd flac-1.3.2 && ./configure --prefix=/usr --disable-thorough-tests && make && make install"
   ]
  },
  {
   "cell_type": "code",
   "execution_count": null,
   "id": "79d21008-7bc8-48c0-b24f-ce6610d9e53e",
   "metadata": {},
   "outputs": [],
   "source": [
    "%%bash\n",
    "# modify run.sh to use \n",
    "# stage=$stage # start from 0 if you need to start from data preparation\n",
    "# stop_stage=$stop_stage\n",
    "# datadir=$DATA_DIR\n",
    "# change tar to tar --no-same-owner in local/download_and_untar.sh\n",
    "export stage=-1\n",
    "export stop_stage=-1\n",
    "./run.sh\n"
   ]
  },
  {
   "cell_type": "code",
   "execution_count": null,
   "id": "222a188c-434f-4907-89a2-92082df2c974",
   "metadata": {},
   "outputs": [],
   "source": [
    "%%bash\n",
    "cd ~/wenet/wenet\n",
    "pip install -r requirements.txt\n"
   ]
  },
  {
   "cell_type": "code",
   "execution_count": null,
   "id": "e644509f-5a68-4df7-85fc-c73ac68ffcbe",
   "metadata": {},
   "outputs": [],
   "source": [
    "%%bash\n",
    "# modify run.sh to prepare data, stage 0: Data preparation: \n",
    "export stage=0\n",
    "export stop_stage=0\n",
    "./run.sh"
   ]
  },
  {
   "cell_type": "code",
   "execution_count": null,
   "id": "427ee487-9918-49b4-ad87-5cdd673472f8",
   "metadata": {},
   "outputs": [],
   "source": [
    "%cd \"~/wenet/wenet/examples/librispeech/s0/\""
   ]
  },
  {
   "cell_type": "code",
   "execution_count": null,
   "id": "a660469f-3334-4dcc-a665-4dd9b3b7535e",
   "metadata": {},
   "outputs": [],
   "source": [
    "!conda install -c pytorch torchaudio=0.10.0 -y"
   ]
  },
  {
   "cell_type": "code",
   "execution_count": null,
   "id": "fce8a48d-b250-44d9-8561-5342018cb45e",
   "metadata": {},
   "outputs": [],
   "source": [
    "%%bash\n",
    "# modify run.sh to generate features, stage 1: Feature Generation: \n",
    "export stage=1\n",
    "export stop_stage=1\n",
    "./run.sh\n",
    "\n",
    "chmod -R 777 data"
   ]
  },
  {
   "cell_type": "code",
   "execution_count": null,
   "id": "d3c5441f-2efb-4189-a7d9-a427ab08860c",
   "metadata": {},
   "outputs": [],
   "source": [
    "%%bash\n",
    "export stage=2\n",
    "export stop_stage=2\n",
    " ./run.sh\n",
    "    \n",
    "chmod -R 777 data"
   ]
  },
  {
   "cell_type": "code",
   "execution_count": null,
   "id": "d38339e5-6644-4237-b41c-154019e0cdef",
   "metadata": {},
   "outputs": [],
   "source": [
    "%%bash\n",
    "export stage=3\n",
    "export stop_stage=3\n",
    " ./run.sh\n",
    "    \n",
    "chmod -R 777 data"
   ]
  },
  {
   "cell_type": "code",
   "execution_count": null,
   "id": "f340d17e-540d-4c65-8127-4bdd33005612",
   "metadata": {},
   "outputs": [],
   "source": [
    "import boto3\n",
    "import sagemaker\n",
    "import os\n",
    "from sagemaker import get_execution_role\n",
    "\n",
    "sess = sagemaker.Session()\n",
    "role = get_execution_role()\n",
    "\n",
    "bucket = sess.default_bucket() \n",
    "bucket"
   ]
  },
  {
   "cell_type": "code",
   "execution_count": null,
   "id": "77dcecd8-d322-41fb-8ea2-7ca548816bde",
   "metadata": {},
   "outputs": [],
   "source": [
    "%env BUCKET=sagemaker-us-east-1-348052051973\n",
    "%env PREFIX=wenet"
   ]
  },
  {
   "cell_type": "code",
   "execution_count": null,
   "id": "6d3c0815-38f5-41f9-8d05-d39169e48aa2",
   "metadata": {},
   "outputs": [],
   "source": [
    "%%bash\n",
    "#upload dataset+etc to s3 bucket\n",
    "aws s3 cp --recursive  exp s3://$BUCKET/$PREFIX/exp\n",
    "aws s3 cp --recursive  data s3://$BUCKET/$PREFIX/data\n",
    "#make sure directory data/train_960 exist\n"
   ]
  },
  {
   "cell_type": "code",
   "execution_count": 3,
   "id": "caacba29-62a6-4753-aeb2-7435e854a446",
   "metadata": {},
   "outputs": [
    {
     "data": {
      "text/markdown": [
       "nohup aws s3 sync ~/wenet/data/training/LibriSpeech/dev-clean s3://sagemaker-us-east-1-348052051973/wenet/export/Librispeech/dev-clean --only-show-errors &\n",
       "\n",
       "nohup aws s3 sync ~/wenet/data/training/LibriSpeech/dev-other s3://sagemaker-us-east-1-348052051973/wenet/export/Librispeech/dev-other --only-show-errors &\n",
       "\n",
       "nohup aws s3 sync ~/wenet/data/training/LibriSpeech/test-clean s3://sagemaker-us-east-1-348052051973/wenet/export/Librispeech/test-clean --only-show-errors &\n",
       "\n",
       "nohup aws s3 sync ~/wenet/data/training/LibriSpeech/test-other s3://sagemaker-us-east-1-348052051973/wenet/export/Librispeech/test-other --only-show-errors &\n",
       "\n",
       "nohup aws s3 sync ~/wenet/data/training/LibriSpeech/train-clean-100 s3://sagemaker-us-east-1-348052051973/wenet/export/Librispeech/train-clean-100 --only-show-errors &\n",
       "\n",
       "nohup aws s3 sync ~/wenet/data/training/LibriSpeech/train-clean-360 s3://sagemaker-us-east-1-348052051973/wenet/export/Librispeech/train-clean-360 --only-show-errors &\n",
       "\n",
       "nohup aws s3 sync ~/wenet/data/training/LibriSpeech/train-other-500 s3://sagemaker-us-east-1-348052051973/wenet/export/Librispeech/train-other-500 --only-show-errors &\n"
      ],
      "text/plain": [
       "<IPython.core.display.Markdown object>"
      ]
     },
     "metadata": {},
     "output_type": "display_data"
    }
   ],
   "source": [
    "%%markdown\n",
    "We could use terminal with following commands to speed up copying to s3. Replace sagemaker-us-east-1-348052051973 with your owne s3 bucket\n",
    "nohup aws s3 sync ~/wenet/data/training/LibriSpeech/dev-clean s3://sagemaker-us-east-1-348052051973/wenet/export/Librispeech/dev-clean --only-show-errors &\n",
    "\n",
    "nohup aws s3 sync ~/wenet/data/training/LibriSpeech/dev-other s3://sagemaker-us-east-1-348052051973/wenet/export/Librispeech/dev-other --only-show-errors &\n",
    "\n",
    "nohup aws s3 sync ~/wenet/data/training/LibriSpeech/test-clean s3://sagemaker-us-east-1-348052051973/wenet/export/Librispeech/test-clean --only-show-errors &\n",
    "\n",
    "nohup aws s3 sync ~/wenet/data/training/LibriSpeech/test-other s3://sagemaker-us-east-1-348052051973/wenet/export/Librispeech/test-other --only-show-errors &\n",
    "\n",
    "nohup aws s3 sync ~/wenet/data/training/LibriSpeech/train-clean-100 s3://sagemaker-us-east-1-348052051973/wenet/export/Librispeech/train-clean-100 --only-show-errors &\n",
    "\n",
    "nohup aws s3 sync ~/wenet/data/training/LibriSpeech/train-clean-360 s3://sagemaker-us-east-1-348052051973/wenet/export/Librispeech/train-clean-360 --only-show-errors &\n",
    "\n",
    "nohup aws s3 sync ~/wenet/data/training/LibriSpeech/train-other-500 s3://sagemaker-us-east-1-348052051973/wenet/export/Librispeech/train-other-500 --only-show-errors &"
   ]
  },
  {
   "cell_type": "code",
   "execution_count": null,
   "id": "0ae261e8-1c68-4fad-8cf0-6315202d2783",
   "metadata": {},
   "outputs": [],
   "source": []
  }
 ],
 "metadata": {
  "instance_type": "ml.c5.4xlarge",
  "kernelspec": {
   "display_name": "Python 3 (PyTorch 1.10 Python 3.8 CPU Optimized)",
   "language": "python",
   "name": "python3__SAGEMAKER_INTERNAL__arn:aws:sagemaker:us-east-1:081325390199:image/pytorch-1.10-cpu-py38"
  },
  "language_info": {
   "codemirror_mode": {
    "name": "ipython",
    "version": 3
   },
   "file_extension": ".py",
   "mimetype": "text/x-python",
   "name": "python",
   "nbconvert_exporter": "python",
   "pygments_lexer": "ipython3",
   "version": "3.8.10"
  }
 },
 "nbformat": 4,
 "nbformat_minor": 5
}
