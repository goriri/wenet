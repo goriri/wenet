{
 "cells": [
  {
   "cell_type": "code",
   "execution_count": null,
   "id": "83c12b63-64f8-4862-8c21-2d5abdd87a21",
   "metadata": {},
   "outputs": [],
   "source": [
    "%%time\n",
    "!pip3 install -U sagemaker\n",
    "!pip3 install -U boto3\n",
    "\n",
    "#then restart kernel"
   ]
  },
  {
   "cell_type": "code",
   "execution_count": null,
   "id": "fecbc5ab-852b-4157-916d-8feb9207b7fa",
   "metadata": {},
   "outputs": [],
   "source": [
    "%%time\n",
    "import os\n",
    "import json\n",
    "\n",
    "import sagemaker\n",
    "import boto3\n",
    "from sagemaker.pytorch import PyTorch\n",
    "from sagemaker import get_execution_role\n",
    "import torch\n",
    "from sagemaker.utils import unique_name_from_base\n",
    "\n",
    "sess = sagemaker.Session()\n",
    "bucket = sess.default_bucket()\n",
    "role = get_execution_role()\n",
    "prefix = 'transsion-poc-zhuan'\n",
    "output_path = f\"s3://{bucket}/{prefix}\"\n",
    "\n",
    "print(\"torch.__version__:{}\".format(torch.__version__))\n",
    "print(\"boto3.__version__:{}\".format(boto3.__version__))\n",
    "print(\"sagemaker.__version__:{}\".format(sagemaker.__version__))\n",
    "print(\"bucket:{}\".format(bucket))\n",
    "print(\"role:{}\".format(role))"
   ]
  },
  {
   "cell_type": "code",
   "execution_count": null,
   "id": "bd57bc33-6cbf-4789-a40d-ed04af3bd383",
   "metadata": {},
   "outputs": [],
   "source": [
    "%%time\n",
    "!git clone https://github.com/wenet-e2e/wenet.git\n",
    "\n",
    "!cp wenet/examples/librispeech/s0/*.sh wenet\n",
    "!cp -r wenet/examples/librispeech/s0/local wenet\n",
    "!mv -f train.py wenet/wenet/bin/train.py\n",
    "!rm -fr wenet/examples\n",
    "#!aws s3 cp --recursive s3://<>/<>/data wenet/data\n",
    "!aws s3 cp --recursive s3://sagemaker-us-east-1-432088571089/dataset-transsion/data wenet/data\n",
    "!aws s3 cp --recursive s3://sagemaker-us-east-1-432088571089/dataset-transsion/exp wenet/exp\n"
   ]
  },
  {
   "cell_type": "code",
   "execution_count": null,
   "id": "9aad794e-6139-4422-892b-936ccaaa3c39",
   "metadata": {},
   "outputs": [],
   "source": [
    "# creating a variable and storing the text\n",
    "# that we want to search\n",
    "search_text = \"stage=0\"\n",
    "  \n",
    "# creating a variable and storing the text\n",
    "# that we want to add\n",
    "replace_text = \"stage=4\"\n",
    "  \n",
    "# Opening our text file in read only\n",
    "# mode using the open() function\n",
    "with open(r'wenet/run.sh', 'r') as file:\n",
    "  \n",
    "    # Reading the content of the file\n",
    "    # using the read() function and storing\n",
    "    # them in a new variable\n",
    "    data = file.read()\n",
    "  \n",
    "    # Searching and replacing the text\n",
    "    # using the replace() function\n",
    "    data = data.replace(search_text, replace_text)\n",
    "  \n",
    "# Opening our text file in write only\n",
    "# mode to write the replaced content\n",
    "with open(r'wenet/run.sh', 'w') as file:\n",
    "  \n",
    "    # Writing the replaced data in our\n",
    "    # text file\n",
    "    file.write(data)\n",
    "  \n",
    "# Printing Text replaced\n",
    "print(\"Text replaced\")"
   ]
  },
  {
   "cell_type": "code",
   "execution_count": null,
   "id": "b43d0bfc-5bb3-4b9f-a305-6a1371bd6164",
   "metadata": {},
   "outputs": [],
   "source": [
    "# creating a variable and storing the text\n",
    "# that we want to search\n",
    "search_text = \"stop_stage=5\"\n",
    "  \n",
    "# creating a variable and storing the text\n",
    "# that we want to add\n",
    "replace_text = \"stop_stage=4\"\n",
    "  \n",
    "# Opening our text file in read only\n",
    "# mode using the open() function\n",
    "with open(r'wenet/run.sh', 'r') as file:\n",
    "  \n",
    "    # Reading the content of the file\n",
    "    # using the read() function and storing\n",
    "    # them in a new variable\n",
    "    data = file.read()\n",
    "  \n",
    "    # Searching and replacing the text\n",
    "    # using the replace() function\n",
    "    data = data.replace(search_text, replace_text)\n",
    "  \n",
    "# Opening our text file in write only\n",
    "# mode to write the replaced content\n",
    "with open(r'wenet/run.sh', 'w') as file:\n",
    "  \n",
    "    # Writing the replaced data in our\n",
    "    # text file\n",
    "    file.write(data)\n",
    "  \n",
    "# Printing Text replaced\n",
    "print(\"Text replaced\")"
   ]
  },
  {
   "cell_type": "code",
   "execution_count": null,
   "id": "ad1a980b-eca5-4ffe-bc50-f23006f1294b",
   "metadata": {},
   "outputs": [],
   "source": [
    "# manual modify all data.list in /wenet/data directory by replacing the path\n",
    "# for example\n",
    "#replace /export/data/en-asr-data/OpenSLR/LibriSpeech with /opt/ml/input/training\n",
    "#PAY attentation on the data.list in train_960 directory, it's too large to process online, it can be downloaded to your pc,then processed & uploaded."
   ]
  },
  {
   "cell_type": "code",
   "execution_count": null,
   "id": "922ce9af-f711-4702-b811-4379efbcc8fc",
   "metadata": {},
   "outputs": [],
   "source": [
    "%%time\n",
    "instance_type = \"ml.p3.2xlarge\"\n",
    "\n",
    "est = PyTorch(\n",
    "    entry_point=\"run.sh\",\n",
    "    source_dir=\"./wenet\",\n",
    "    framework_version=\"1.11.0\",\n",
    "    py_version=\"py38\",\n",
    "    role=role,\n",
    "    instance_count=1,\n",
    "    instance_type=instance_type,\n",
    "    volume_size=10,\n",
    "    disable_profiler=True,\n",
    "    debugger_hook_config=False,\n",
    "    base_job_name=prefix,\n",
    ")\n"
   ]
  },
  {
   "cell_type": "code",
   "execution_count": null,
   "id": "991f505d-b0c4-4aa1-abae-fd3c3d4534d8",
   "metadata": {},
   "outputs": [],
   "source": [
    "from sagemaker.inputs import TrainingInput\n",
    "prefix_dataset = \"dataset-transsion/export\"\n",
    "loc =f\"s3://{bucket}/{prefix_dataset}\"\n",
    "\n",
    "training = TrainingInput(\n",
    "    s3_data_type='S3Prefix', # Available Options: S3Prefix | ManifestFile | AugmentedManifestFile\n",
    "    s3_data=loc,\n",
    "    distribution='FullyReplicated', # Available Options: FullyReplicated | ShardedByS3Key \n",
    "    input_mode='FastFile'\n",
    ")"
   ]
  },
  {
   "cell_type": "code",
   "execution_count": null,
   "id": "a653e3f8-9feb-449b-9dad-a53b1735e33d",
   "metadata": {},
   "outputs": [],
   "source": [
    "%%time\n",
    "job_name = est.fit({\"training\":training})\n",
    "#job_name = est.fit()"
   ]
  },
  {
   "cell_type": "code",
   "execution_count": null,
   "id": "3d07b7c9-acde-4d0a-b179-3134d28f6f3c",
   "metadata": {},
   "outputs": [],
   "source": [
    "model_data = est.model_data\n",
    "print(\"Model artifact saved at:\\n\", model_data)"
   ]
  },
  {
   "cell_type": "code",
   "execution_count": null,
   "id": "60519dfe-3653-4321-a6ab-b125cb1d8e38",
   "metadata": {},
   "outputs": [],
   "source": []
  },
  {
   "cell_type": "code",
   "execution_count": null,
   "id": "a55192e1-23f5-4c2f-8c0f-5d1c43655226",
   "metadata": {},
   "outputs": [],
   "source": []
  }
 ],
 "metadata": {
  "instance_type": "ml.t3.medium",
  "kernelspec": {
   "display_name": "Python 3 (PyTorch 1.12 Python 3.8 CPU Optimized)",
   "language": "python",
   "name": "python3__SAGEMAKER_INTERNAL__arn:aws:sagemaker:us-east-1:081325390199:image/pytorch-1.12-cpu-py38"
  },
  "language_info": {
   "codemirror_mode": {
    "name": "ipython",
    "version": 3
   },
   "file_extension": ".py",
   "mimetype": "text/x-python",
   "name": "python",
   "nbconvert_exporter": "python",
   "pygments_lexer": "ipython3",
   "version": "3.8.13"
  }
 },
 "nbformat": 4,
 "nbformat_minor": 5
}
